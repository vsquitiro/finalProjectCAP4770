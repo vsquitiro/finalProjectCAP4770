{
  "nbformat": 4,
  "nbformat_minor": 0,
  "metadata": {
    "colab": {
      "name": "Copy of Random-Forest.ipynb",
      "provenance": [],
      "collapsed_sections": [],
      "include_colab_link": true
    },
    "kernelspec": {
      "name": "python3",
      "display_name": "Python 3"
    }
  },
  "cells": [
    {
      "cell_type": "markdown",
      "metadata": {
        "id": "view-in-github",
        "colab_type": "text"
      },
      "source": [
        "<a href=\"https://colab.research.google.com/github/vsquitiro/finalProjectCAP4770/blob/master/Copy_of_Random_Forest.ipynb\" target=\"_parent\"><img src=\"https://colab.research.google.com/assets/colab-badge.svg\" alt=\"Open In Colab\"/></a>"
      ]
    },
    {
      "cell_type": "code",
      "metadata": {
        "id": "9hS9YC4pNFRq",
        "colab_type": "code",
        "colab": {}
      },
      "source": [
        "fileURL = 'https://cap4770dsprojectsum.s3.amazonaws.com/creditcard.csv'"
      ],
      "execution_count": null,
      "outputs": []
    },
    {
      "cell_type": "code",
      "metadata": {
        "id": "TYV2Yr-WMDqF",
        "colab_type": "code",
        "colab": {
          "base_uri": "https://localhost:8080/",
          "height": 34
        },
        "outputId": "fa802e20-5bae-4777-a592-322edd2e83d4"
      },
      "source": [
        "print('Can you see this?')"
      ],
      "execution_count": null,
      "outputs": [
        {
          "output_type": "stream",
          "text": [
            "Can you see this?\n"
          ],
          "name": "stdout"
        }
      ]
    },
    {
      "cell_type": "code",
      "metadata": {
        "id": "F5-eV-c7MGSe",
        "colab_type": "code",
        "colab": {
          "base_uri": "https://localhost:8080/",
          "height": 34
        },
        "outputId": "2c10361f-979b-426d-d813-722ca19fc622"
      },
      "source": [
        "print('2nd change')"
      ],
      "execution_count": null,
      "outputs": [
        {
          "output_type": "stream",
          "text": [
            "2nd change\n"
          ],
          "name": "stdout"
        }
      ]
    },
    {
      "cell_type": "code",
      "metadata": {
        "id": "yKHTvm_CMfgG",
        "colab_type": "code",
        "colab": {}
      },
      "source": [
        "import pandas as pd\n",
        "import s3fs\n",
        "\n",
        "df = pd.read_csv('https://cap4770dsprojectsum.s3.amazonaws.com/creditcard.csv')"
      ],
      "execution_count": null,
      "outputs": []
    },
    {
      "cell_type": "code",
      "metadata": {
        "id": "t758qdEHNZ7G",
        "colab_type": "code",
        "colab": {}
      },
      "source": [
        "from sklearn.preprocessing import MinMaxScaler\n",
        "\n",
        "min_max = MinMaxScaler()\n",
        "\n",
        "column_names = []\n",
        "for name in df.columns:\n",
        "  column_names.append(name)\n",
        "\n",
        "x = df.values\n",
        "x_scaled = min_max.fit_transform(x)\n",
        "df = pd.DataFrame(x_scaled)\n",
        "df.columns = column_names"
      ],
      "execution_count": null,
      "outputs": []
    },
    {
      "cell_type": "code",
      "metadata": {
        "id": "Z3sEi3RMjGY0",
        "colab_type": "code",
        "colab": {
          "base_uri": "https://localhost:8080/",
          "height": 439
        },
        "outputId": "d1b42ba8-7bb2-444a-fde9-62c3a6dc8614"
      },
      "source": [
        "df"
      ],
      "execution_count": null,
      "outputs": [
        {
          "output_type": "execute_result",
          "data": {
            "text/html": [
              "<div>\n",
              "<style scoped>\n",
              "    .dataframe tbody tr th:only-of-type {\n",
              "        vertical-align: middle;\n",
              "    }\n",
              "\n",
              "    .dataframe tbody tr th {\n",
              "        vertical-align: top;\n",
              "    }\n",
              "\n",
              "    .dataframe thead th {\n",
              "        text-align: right;\n",
              "    }\n",
              "</style>\n",
              "<table border=\"1\" class=\"dataframe\">\n",
              "  <thead>\n",
              "    <tr style=\"text-align: right;\">\n",
              "      <th></th>\n",
              "      <th>Time</th>\n",
              "      <th>V1</th>\n",
              "      <th>V2</th>\n",
              "      <th>V3</th>\n",
              "      <th>V4</th>\n",
              "      <th>V5</th>\n",
              "      <th>V6</th>\n",
              "      <th>V7</th>\n",
              "      <th>V8</th>\n",
              "      <th>V9</th>\n",
              "      <th>V10</th>\n",
              "      <th>V11</th>\n",
              "      <th>V12</th>\n",
              "      <th>V13</th>\n",
              "      <th>V14</th>\n",
              "      <th>V15</th>\n",
              "      <th>V16</th>\n",
              "      <th>V17</th>\n",
              "      <th>V18</th>\n",
              "      <th>V19</th>\n",
              "      <th>V20</th>\n",
              "      <th>V21</th>\n",
              "      <th>V22</th>\n",
              "      <th>V23</th>\n",
              "      <th>V24</th>\n",
              "      <th>V25</th>\n",
              "      <th>V26</th>\n",
              "      <th>V27</th>\n",
              "      <th>V28</th>\n",
              "      <th>Amount</th>\n",
              "      <th>Class</th>\n",
              "    </tr>\n",
              "  </thead>\n",
              "  <tbody>\n",
              "    <tr>\n",
              "      <th>0</th>\n",
              "      <td>0.000000</td>\n",
              "      <td>0.935192</td>\n",
              "      <td>0.766490</td>\n",
              "      <td>0.881365</td>\n",
              "      <td>0.313023</td>\n",
              "      <td>0.763439</td>\n",
              "      <td>0.267669</td>\n",
              "      <td>0.266815</td>\n",
              "      <td>0.786444</td>\n",
              "      <td>0.475312</td>\n",
              "      <td>0.510600</td>\n",
              "      <td>0.252484</td>\n",
              "      <td>0.680908</td>\n",
              "      <td>0.371591</td>\n",
              "      <td>0.635591</td>\n",
              "      <td>0.446084</td>\n",
              "      <td>0.434392</td>\n",
              "      <td>0.737173</td>\n",
              "      <td>0.655066</td>\n",
              "      <td>0.594863</td>\n",
              "      <td>0.582942</td>\n",
              "      <td>0.561184</td>\n",
              "      <td>0.522992</td>\n",
              "      <td>0.663793</td>\n",
              "      <td>0.391253</td>\n",
              "      <td>0.585122</td>\n",
              "      <td>0.394557</td>\n",
              "      <td>0.418976</td>\n",
              "      <td>0.312697</td>\n",
              "      <td>0.005824</td>\n",
              "      <td>0.0</td>\n",
              "    </tr>\n",
              "    <tr>\n",
              "      <th>1</th>\n",
              "      <td>0.000000</td>\n",
              "      <td>0.978542</td>\n",
              "      <td>0.770067</td>\n",
              "      <td>0.840298</td>\n",
              "      <td>0.271796</td>\n",
              "      <td>0.766120</td>\n",
              "      <td>0.262192</td>\n",
              "      <td>0.264875</td>\n",
              "      <td>0.786298</td>\n",
              "      <td>0.453981</td>\n",
              "      <td>0.505267</td>\n",
              "      <td>0.381188</td>\n",
              "      <td>0.744342</td>\n",
              "      <td>0.486190</td>\n",
              "      <td>0.641219</td>\n",
              "      <td>0.383840</td>\n",
              "      <td>0.464105</td>\n",
              "      <td>0.727794</td>\n",
              "      <td>0.640681</td>\n",
              "      <td>0.551930</td>\n",
              "      <td>0.579530</td>\n",
              "      <td>0.557840</td>\n",
              "      <td>0.480237</td>\n",
              "      <td>0.666938</td>\n",
              "      <td>0.336440</td>\n",
              "      <td>0.587290</td>\n",
              "      <td>0.446013</td>\n",
              "      <td>0.416345</td>\n",
              "      <td>0.313423</td>\n",
              "      <td>0.000105</td>\n",
              "      <td>0.0</td>\n",
              "    </tr>\n",
              "    <tr>\n",
              "      <th>2</th>\n",
              "      <td>0.000006</td>\n",
              "      <td>0.935217</td>\n",
              "      <td>0.753118</td>\n",
              "      <td>0.868141</td>\n",
              "      <td>0.268766</td>\n",
              "      <td>0.762329</td>\n",
              "      <td>0.281122</td>\n",
              "      <td>0.270177</td>\n",
              "      <td>0.788042</td>\n",
              "      <td>0.410603</td>\n",
              "      <td>0.513018</td>\n",
              "      <td>0.322422</td>\n",
              "      <td>0.706683</td>\n",
              "      <td>0.503854</td>\n",
              "      <td>0.640473</td>\n",
              "      <td>0.511697</td>\n",
              "      <td>0.357443</td>\n",
              "      <td>0.763381</td>\n",
              "      <td>0.644945</td>\n",
              "      <td>0.386683</td>\n",
              "      <td>0.585855</td>\n",
              "      <td>0.565477</td>\n",
              "      <td>0.546030</td>\n",
              "      <td>0.678939</td>\n",
              "      <td>0.289354</td>\n",
              "      <td>0.559515</td>\n",
              "      <td>0.402727</td>\n",
              "      <td>0.415489</td>\n",
              "      <td>0.311911</td>\n",
              "      <td>0.014739</td>\n",
              "      <td>0.0</td>\n",
              "    </tr>\n",
              "    <tr>\n",
              "      <th>3</th>\n",
              "      <td>0.000006</td>\n",
              "      <td>0.941878</td>\n",
              "      <td>0.765304</td>\n",
              "      <td>0.868484</td>\n",
              "      <td>0.213661</td>\n",
              "      <td>0.765647</td>\n",
              "      <td>0.275559</td>\n",
              "      <td>0.266803</td>\n",
              "      <td>0.789434</td>\n",
              "      <td>0.414999</td>\n",
              "      <td>0.507585</td>\n",
              "      <td>0.271817</td>\n",
              "      <td>0.710910</td>\n",
              "      <td>0.487635</td>\n",
              "      <td>0.636372</td>\n",
              "      <td>0.289124</td>\n",
              "      <td>0.415653</td>\n",
              "      <td>0.711253</td>\n",
              "      <td>0.788492</td>\n",
              "      <td>0.467058</td>\n",
              "      <td>0.578050</td>\n",
              "      <td>0.559734</td>\n",
              "      <td>0.510277</td>\n",
              "      <td>0.662607</td>\n",
              "      <td>0.223826</td>\n",
              "      <td>0.614245</td>\n",
              "      <td>0.389197</td>\n",
              "      <td>0.417669</td>\n",
              "      <td>0.314371</td>\n",
              "      <td>0.004807</td>\n",
              "      <td>0.0</td>\n",
              "    </tr>\n",
              "    <tr>\n",
              "      <th>4</th>\n",
              "      <td>0.000012</td>\n",
              "      <td>0.938617</td>\n",
              "      <td>0.776520</td>\n",
              "      <td>0.864251</td>\n",
              "      <td>0.269796</td>\n",
              "      <td>0.762975</td>\n",
              "      <td>0.263984</td>\n",
              "      <td>0.268968</td>\n",
              "      <td>0.782484</td>\n",
              "      <td>0.490950</td>\n",
              "      <td>0.524303</td>\n",
              "      <td>0.236355</td>\n",
              "      <td>0.724477</td>\n",
              "      <td>0.552509</td>\n",
              "      <td>0.608406</td>\n",
              "      <td>0.349419</td>\n",
              "      <td>0.434995</td>\n",
              "      <td>0.724243</td>\n",
              "      <td>0.650665</td>\n",
              "      <td>0.626060</td>\n",
              "      <td>0.584615</td>\n",
              "      <td>0.561327</td>\n",
              "      <td>0.547271</td>\n",
              "      <td>0.663392</td>\n",
              "      <td>0.401270</td>\n",
              "      <td>0.566343</td>\n",
              "      <td>0.507497</td>\n",
              "      <td>0.420561</td>\n",
              "      <td>0.317490</td>\n",
              "      <td>0.002724</td>\n",
              "      <td>0.0</td>\n",
              "    </tr>\n",
              "    <tr>\n",
              "      <th>...</th>\n",
              "      <td>...</td>\n",
              "      <td>...</td>\n",
              "      <td>...</td>\n",
              "      <td>...</td>\n",
              "      <td>...</td>\n",
              "      <td>...</td>\n",
              "      <td>...</td>\n",
              "      <td>...</td>\n",
              "      <td>...</td>\n",
              "      <td>...</td>\n",
              "      <td>...</td>\n",
              "      <td>...</td>\n",
              "      <td>...</td>\n",
              "      <td>...</td>\n",
              "      <td>...</td>\n",
              "      <td>...</td>\n",
              "      <td>...</td>\n",
              "      <td>...</td>\n",
              "      <td>...</td>\n",
              "      <td>...</td>\n",
              "      <td>...</td>\n",
              "      <td>...</td>\n",
              "      <td>...</td>\n",
              "      <td>...</td>\n",
              "      <td>...</td>\n",
              "      <td>...</td>\n",
              "      <td>...</td>\n",
              "      <td>...</td>\n",
              "      <td>...</td>\n",
              "      <td>...</td>\n",
              "      <td>...</td>\n",
              "    </tr>\n",
              "    <tr>\n",
              "      <th>284802</th>\n",
              "      <td>0.999965</td>\n",
              "      <td>0.756448</td>\n",
              "      <td>0.873531</td>\n",
              "      <td>0.666991</td>\n",
              "      <td>0.160317</td>\n",
              "      <td>0.729603</td>\n",
              "      <td>0.236810</td>\n",
              "      <td>0.235393</td>\n",
              "      <td>0.863749</td>\n",
              "      <td>0.528729</td>\n",
              "      <td>0.598850</td>\n",
              "      <td>0.190550</td>\n",
              "      <td>0.806406</td>\n",
              "      <td>0.394978</td>\n",
              "      <td>0.801627</td>\n",
              "      <td>0.267218</td>\n",
              "      <td>0.484577</td>\n",
              "      <td>0.789000</td>\n",
              "      <td>0.688412</td>\n",
              "      <td>0.509985</td>\n",
              "      <td>0.595979</td>\n",
              "      <td>0.564920</td>\n",
              "      <td>0.515249</td>\n",
              "      <td>0.680500</td>\n",
              "      <td>0.313600</td>\n",
              "      <td>0.658558</td>\n",
              "      <td>0.466291</td>\n",
              "      <td>0.433929</td>\n",
              "      <td>0.329840</td>\n",
              "      <td>0.000030</td>\n",
              "      <td>0.0</td>\n",
              "    </tr>\n",
              "    <tr>\n",
              "      <th>284803</th>\n",
              "      <td>0.999971</td>\n",
              "      <td>0.945845</td>\n",
              "      <td>0.766677</td>\n",
              "      <td>0.872678</td>\n",
              "      <td>0.219189</td>\n",
              "      <td>0.771561</td>\n",
              "      <td>0.273661</td>\n",
              "      <td>0.265504</td>\n",
              "      <td>0.788548</td>\n",
              "      <td>0.482925</td>\n",
              "      <td>0.488530</td>\n",
              "      <td>0.276355</td>\n",
              "      <td>0.738709</td>\n",
              "      <td>0.542361</td>\n",
              "      <td>0.623352</td>\n",
              "      <td>0.423414</td>\n",
              "      <td>0.426717</td>\n",
              "      <td>0.730383</td>\n",
              "      <td>0.569303</td>\n",
              "      <td>0.442620</td>\n",
              "      <td>0.580900</td>\n",
              "      <td>0.564933</td>\n",
              "      <td>0.553153</td>\n",
              "      <td>0.665619</td>\n",
              "      <td>0.245298</td>\n",
              "      <td>0.543855</td>\n",
              "      <td>0.360884</td>\n",
              "      <td>0.417775</td>\n",
              "      <td>0.312038</td>\n",
              "      <td>0.000965</td>\n",
              "      <td>0.0</td>\n",
              "    </tr>\n",
              "    <tr>\n",
              "      <th>284804</th>\n",
              "      <td>0.999977</td>\n",
              "      <td>0.990905</td>\n",
              "      <td>0.764080</td>\n",
              "      <td>0.781102</td>\n",
              "      <td>0.227202</td>\n",
              "      <td>0.783425</td>\n",
              "      <td>0.293496</td>\n",
              "      <td>0.263547</td>\n",
              "      <td>0.792985</td>\n",
              "      <td>0.477677</td>\n",
              "      <td>0.498692</td>\n",
              "      <td>0.309763</td>\n",
              "      <td>0.706572</td>\n",
              "      <td>0.434111</td>\n",
              "      <td>0.628885</td>\n",
              "      <td>0.435700</td>\n",
              "      <td>0.453827</td>\n",
              "      <td>0.740239</td>\n",
              "      <td>0.680504</td>\n",
              "      <td>0.518236</td>\n",
              "      <td>0.580280</td>\n",
              "      <td>0.565220</td>\n",
              "      <td>0.537005</td>\n",
              "      <td>0.664877</td>\n",
              "      <td>0.468492</td>\n",
              "      <td>0.592824</td>\n",
              "      <td>0.411177</td>\n",
              "      <td>0.416593</td>\n",
              "      <td>0.312585</td>\n",
              "      <td>0.002642</td>\n",
              "      <td>0.0</td>\n",
              "    </tr>\n",
              "    <tr>\n",
              "      <th>284805</th>\n",
              "      <td>0.999977</td>\n",
              "      <td>0.954209</td>\n",
              "      <td>0.772856</td>\n",
              "      <td>0.849587</td>\n",
              "      <td>0.282508</td>\n",
              "      <td>0.763172</td>\n",
              "      <td>0.269291</td>\n",
              "      <td>0.261175</td>\n",
              "      <td>0.792671</td>\n",
              "      <td>0.476287</td>\n",
              "      <td>0.500464</td>\n",
              "      <td>0.170288</td>\n",
              "      <td>0.667901</td>\n",
              "      <td>0.367667</td>\n",
              "      <td>0.661171</td>\n",
              "      <td>0.483042</td>\n",
              "      <td>0.429998</td>\n",
              "      <td>0.745946</td>\n",
              "      <td>0.729908</td>\n",
              "      <td>0.789612</td>\n",
              "      <td>0.581622</td>\n",
              "      <td>0.565755</td>\n",
              "      <td>0.547353</td>\n",
              "      <td>0.663008</td>\n",
              "      <td>0.398836</td>\n",
              "      <td>0.545958</td>\n",
              "      <td>0.514746</td>\n",
              "      <td>0.418520</td>\n",
              "      <td>0.315245</td>\n",
              "      <td>0.000389</td>\n",
              "      <td>0.0</td>\n",
              "    </tr>\n",
              "    <tr>\n",
              "      <th>284806</th>\n",
              "      <td>1.000000</td>\n",
              "      <td>0.949232</td>\n",
              "      <td>0.765256</td>\n",
              "      <td>0.849601</td>\n",
              "      <td>0.229488</td>\n",
              "      <td>0.765632</td>\n",
              "      <td>0.256488</td>\n",
              "      <td>0.274963</td>\n",
              "      <td>0.780938</td>\n",
              "      <td>0.479528</td>\n",
              "      <td>0.489782</td>\n",
              "      <td>0.223414</td>\n",
              "      <td>0.703005</td>\n",
              "      <td>0.433771</td>\n",
              "      <td>0.643218</td>\n",
              "      <td>0.339417</td>\n",
              "      <td>0.439728</td>\n",
              "      <td>0.711942</td>\n",
              "      <td>0.664807</td>\n",
              "      <td>0.543314</td>\n",
              "      <td>0.584343</td>\n",
              "      <td>0.565688</td>\n",
              "      <td>0.540031</td>\n",
              "      <td>0.671029</td>\n",
              "      <td>0.383420</td>\n",
              "      <td>0.551319</td>\n",
              "      <td>0.291786</td>\n",
              "      <td>0.416466</td>\n",
              "      <td>0.313401</td>\n",
              "      <td>0.008446</td>\n",
              "      <td>0.0</td>\n",
              "    </tr>\n",
              "  </tbody>\n",
              "</table>\n",
              "<p>284807 rows × 31 columns</p>\n",
              "</div>"
            ],
            "text/plain": [
              "            Time        V1        V2  ...       V28    Amount  Class\n",
              "0       0.000000  0.935192  0.766490  ...  0.312697  0.005824    0.0\n",
              "1       0.000000  0.978542  0.770067  ...  0.313423  0.000105    0.0\n",
              "2       0.000006  0.935217  0.753118  ...  0.311911  0.014739    0.0\n",
              "3       0.000006  0.941878  0.765304  ...  0.314371  0.004807    0.0\n",
              "4       0.000012  0.938617  0.776520  ...  0.317490  0.002724    0.0\n",
              "...          ...       ...       ...  ...       ...       ...    ...\n",
              "284802  0.999965  0.756448  0.873531  ...  0.329840  0.000030    0.0\n",
              "284803  0.999971  0.945845  0.766677  ...  0.312038  0.000965    0.0\n",
              "284804  0.999977  0.990905  0.764080  ...  0.312585  0.002642    0.0\n",
              "284805  0.999977  0.954209  0.772856  ...  0.315245  0.000389    0.0\n",
              "284806  1.000000  0.949232  0.765256  ...  0.313401  0.008446    0.0\n",
              "\n",
              "[284807 rows x 31 columns]"
            ]
          },
          "metadata": {
            "tags": []
          },
          "execution_count": 135
        }
      ]
    },
    {
      "cell_type": "code",
      "metadata": {
        "id": "0i7D4rYTkbCF",
        "colab_type": "code",
        "colab": {}
      },
      "source": [
        "#Test set will be same for all models\n",
        "import numpy as np\n",
        "from sklearn.model_selection import train_test_split\n",
        "X = df.drop('Class', axis=1)\n",
        "y = df['Class']\n",
        "X_train, X_test, y_train, y_test = train_test_split(X, y, test_size=0.2, random_state=17)"
      ],
      "execution_count": null,
      "outputs": []
    },
    {
      "cell_type": "code",
      "metadata": {
        "id": "MjnSA8Ffj3KA",
        "colab_type": "code",
        "colab": {
          "base_uri": "https://localhost:8080/",
          "height": 34
        },
        "outputId": "3e1195ce-22c0-4d8e-98bc-696e520d0372"
      },
      "source": [
        "test = np.unique(y_train, return_counts=True)\n",
        "test[0][1]/test[1][0]"
      ],
      "execution_count": null,
      "outputs": [
        {
          "output_type": "execute_result",
          "data": {
            "text/plain": [
              "4.396705987873885e-06"
            ]
          },
          "metadata": {
            "tags": []
          },
          "execution_count": 137
        }
      ]
    },
    {
      "cell_type": "code",
      "metadata": {
        "id": "dsDDsGFmm6O2",
        "colab_type": "code",
        "colab": {
          "base_uri": "https://localhost:8080/",
          "height": 34
        },
        "outputId": "0942ec9b-89fc-436f-d352-a9620c8539a3"
      },
      "source": [
        "test = np.unique(y_test, return_counts=True)\n",
        "test[0][1]/test[1][0]"
      ],
      "execution_count": null,
      "outputs": [
        {
          "output_type": "execute_result",
          "data": {
            "text/plain": [
              "1.758334505556337e-05"
            ]
          },
          "metadata": {
            "tags": []
          },
          "execution_count": 138
        }
      ]
    },
    {
      "cell_type": "code",
      "metadata": {
        "id": "1qm_VNbjpRiZ",
        "colab_type": "code",
        "colab": {
          "base_uri": "https://localhost:8080/",
          "height": 139
        },
        "outputId": "0c57054e-bfeb-4247-a203-740c96702a6c"
      },
      "source": [
        "from imblearn.under_sampling import NearMiss\n",
        "nm = NearMiss()\n",
        "X_train_under, y_train_under = nm.fit_resample(X_train, y_train)"
      ],
      "execution_count": null,
      "outputs": [
        {
          "output_type": "stream",
          "text": [
            "/usr/local/lib/python3.6/dist-packages/sklearn/utils/deprecation.py:87: FutureWarning: Function safe_indexing is deprecated; safe_indexing is deprecated in version 0.22 and will be removed in version 0.24.\n",
            "  warnings.warn(msg, category=FutureWarning)\n",
            "/usr/local/lib/python3.6/dist-packages/sklearn/utils/deprecation.py:87: FutureWarning: Function safe_indexing is deprecated; safe_indexing is deprecated in version 0.22 and will be removed in version 0.24.\n",
            "  warnings.warn(msg, category=FutureWarning)\n",
            "/usr/local/lib/python3.6/dist-packages/sklearn/utils/deprecation.py:87: FutureWarning: Function safe_indexing is deprecated; safe_indexing is deprecated in version 0.22 and will be removed in version 0.24.\n",
            "  warnings.warn(msg, category=FutureWarning)\n"
          ],
          "name": "stderr"
        }
      ]
    },
    {
      "cell_type": "code",
      "metadata": {
        "id": "vuMr4JWPp7X3",
        "colab_type": "code",
        "colab": {
          "base_uri": "https://localhost:8080/",
          "height": 34
        },
        "outputId": "4092268a-f9ab-46f6-e0d0-fdccd2eefcbb"
      },
      "source": [
        "from collections import Counter\n",
        "print(Counter(y_train_under))"
      ],
      "execution_count": null,
      "outputs": [
        {
          "output_type": "stream",
          "text": [
            "Counter({0.0: 402, 1.0: 402})\n"
          ],
          "name": "stdout"
        }
      ]
    },
    {
      "cell_type": "code",
      "metadata": {
        "id": "Fgcskeg6rN_6",
        "colab_type": "code",
        "colab": {
          "base_uri": "https://localhost:8080/",
          "height": 88
        },
        "outputId": "8a6d5a06-503a-404a-d5fb-e56375091dbb"
      },
      "source": [
        "from imblearn.over_sampling import RandomOverSampler\n",
        "ros = RandomOverSampler(random_state=0)\n",
        "X_train_over, y_train_over = ros.fit_resample(X_train, y_train)\n",
        "print(Counter(y_train_over))"
      ],
      "execution_count": null,
      "outputs": [
        {
          "output_type": "stream",
          "text": [
            "Counter({0.0: 227443, 1.0: 227443})\n"
          ],
          "name": "stdout"
        },
        {
          "output_type": "stream",
          "text": [
            "/usr/local/lib/python3.6/dist-packages/sklearn/utils/deprecation.py:87: FutureWarning: Function safe_indexing is deprecated; safe_indexing is deprecated in version 0.22 and will be removed in version 0.24.\n",
            "  warnings.warn(msg, category=FutureWarning)\n"
          ],
          "name": "stderr"
        }
      ]
    },
    {
      "cell_type": "code",
      "metadata": {
        "id": "m9Xbb1yqrejG",
        "colab_type": "code",
        "colab": {
          "base_uri": "https://localhost:8080/",
          "height": 34
        },
        "outputId": "999471a3-c21d-4a09-afea-1c0933626b09"
      },
      "source": [
        "#Random Forest on normal train\n",
        "#%%time\n",
        "import time\n",
        "from sklearn.ensemble import RandomForestClassifier\n",
        "t0 = time.time()\n",
        "model_normal = RandomForestClassifier(random_state=0).fit(X_train, y_train)\n",
        "t1 = time.time()\n",
        "time_normal = t1-t0\n",
        "print(time_normal)"
      ],
      "execution_count": null,
      "outputs": [
        {
          "output_type": "stream",
          "text": [
            "201.14591908454895\n"
          ],
          "name": "stdout"
        }
      ]
    },
    {
      "cell_type": "code",
      "metadata": {
        "id": "ik-OPFTF0hqr",
        "colab_type": "code",
        "colab": {
          "base_uri": "https://localhost:8080/",
          "height": 68
        },
        "outputId": "4b455de0-e89a-4e97-c280-8772df183380"
      },
      "source": [
        "#Random Forest on normal train - accuracy\n",
        "#Use the Random Forest.score method to measure the model's classification \n",
        "#accuracy on test sample.\n",
        "%%time\n",
        "# Score the model!\n",
        "model_normal.score(X_test, y_test)"
      ],
      "execution_count": null,
      "outputs": [
        {
          "output_type": "stream",
          "text": [
            "CPU times: user 552 ms, sys: 3 ms, total: 555 ms\n",
            "Wall time: 556 ms\n"
          ],
          "name": "stdout"
        },
        {
          "output_type": "execute_result",
          "data": {
            "text/plain": [
              "0.9995435553526912"
            ]
          },
          "metadata": {
            "tags": []
          },
          "execution_count": 143
        }
      ]
    },
    {
      "cell_type": "code",
      "metadata": {
        "id": "ljnX80In1rPU",
        "colab_type": "code",
        "colab": {
          "base_uri": "https://localhost:8080/",
          "height": 51
        },
        "outputId": "7b815387-ff9d-4670-b680-7e613ba20acf"
      },
      "source": [
        "#Random Forest on normal train - confusion matrix\n",
        "preds_normal = model_normal.predict(X_test)\n",
        "from sklearn.metrics import confusion_matrix\n",
        "confusion_matrix(y_test, preds_normal)"
      ],
      "execution_count": null,
      "outputs": [
        {
          "output_type": "execute_result",
          "data": {
            "text/plain": [
              "array([[56868,     4],\n",
              "       [   22,    68]])"
            ]
          },
          "metadata": {
            "tags": []
          },
          "execution_count": 144
        }
      ]
    },
    {
      "cell_type": "code",
      "metadata": {
        "id": "E33FE6xl2BgU",
        "colab_type": "code",
        "colab": {}
      },
      "source": [
        "from sklearn.metrics import precision_score, recall_score, f1_score, roc_auc_score, accuracy_score, classification_report"
      ],
      "execution_count": null,
      "outputs": []
    },
    {
      "cell_type": "code",
      "metadata": {
        "id": "Oh0zzuEz4tHS",
        "colab_type": "code",
        "colab": {
          "base_uri": "https://localhost:8080/",
          "height": 34
        },
        "outputId": "50ec6b38-3cb0-4947-b993-cdaeefda94d6"
      },
      "source": [
        "precision_score(y_test, preds_normal)"
      ],
      "execution_count": null,
      "outputs": [
        {
          "output_type": "execute_result",
          "data": {
            "text/plain": [
              "0.9444444444444444"
            ]
          },
          "metadata": {
            "tags": []
          },
          "execution_count": 146
        }
      ]
    },
    {
      "cell_type": "code",
      "metadata": {
        "id": "-4YcrtLJ4wYN",
        "colab_type": "code",
        "colab": {
          "base_uri": "https://localhost:8080/",
          "height": 34
        },
        "outputId": "c8bbd405-d0fe-4533-8dc6-2808ba25366c"
      },
      "source": [
        "recall_score(y_test, preds_normal)"
      ],
      "execution_count": null,
      "outputs": [
        {
          "output_type": "execute_result",
          "data": {
            "text/plain": [
              "0.7555555555555555"
            ]
          },
          "metadata": {
            "tags": []
          },
          "execution_count": 147
        }
      ]
    },
    {
      "cell_type": "code",
      "metadata": {
        "id": "b5Lbg2ZM40D6",
        "colab_type": "code",
        "colab": {
          "base_uri": "https://localhost:8080/",
          "height": 34
        },
        "outputId": "91e98c04-f61d-4b9c-f014-7106fc82972d"
      },
      "source": [
        "f1_score(y_test, preds_normal)"
      ],
      "execution_count": null,
      "outputs": [
        {
          "output_type": "execute_result",
          "data": {
            "text/plain": [
              "0.8395061728395062"
            ]
          },
          "metadata": {
            "tags": []
          },
          "execution_count": 148
        }
      ]
    },
    {
      "cell_type": "code",
      "metadata": {
        "id": "uplW_USM43Ad",
        "colab_type": "code",
        "colab": {
          "base_uri": "https://localhost:8080/",
          "height": 34
        },
        "outputId": "076bdb9e-0051-4647-f78e-bb6c8a353c5b"
      },
      "source": [
        "roc_auc_score(y_test, preds_normal)"
      ],
      "execution_count": null,
      "outputs": [
        {
          "output_type": "execute_result",
          "data": {
            "text/plain": [
              "0.8777426110876667"
            ]
          },
          "metadata": {
            "tags": []
          },
          "execution_count": 149
        }
      ]
    },
    {
      "cell_type": "code",
      "metadata": {
        "id": "hdi6QVqE47pc",
        "colab_type": "code",
        "colab": {
          "base_uri": "https://localhost:8080/",
          "height": 34
        },
        "outputId": "3d4f4d69-5a72-4aa6-f60b-6a9ef67f3549"
      },
      "source": [
        "accuracy_score(y_test, preds_normal)"
      ],
      "execution_count": null,
      "outputs": [
        {
          "output_type": "execute_result",
          "data": {
            "text/plain": [
              "0.9995435553526912"
            ]
          },
          "metadata": {
            "tags": []
          },
          "execution_count": 150
        }
      ]
    },
    {
      "cell_type": "code",
      "metadata": {
        "id": "rPFCGtQu4-aI",
        "colab_type": "code",
        "colab": {
          "base_uri": "https://localhost:8080/",
          "height": 52
        },
        "outputId": "5563d1e9-aad3-4bd9-8a6d-e3718eadc86a"
      },
      "source": [
        "classification_report(y_test, preds_normal)"
      ],
      "execution_count": null,
      "outputs": [
        {
          "output_type": "execute_result",
          "data": {
            "application/vnd.google.colaboratory.intrinsic": {
              "type": "string"
            },
            "text/plain": [
              "'              precision    recall  f1-score   support\\n\\n         0.0       1.00      1.00      1.00     56872\\n         1.0       0.94      0.76      0.84        90\\n\\n    accuracy                           1.00     56962\\n   macro avg       0.97      0.88      0.92     56962\\nweighted avg       1.00      1.00      1.00     56962\\n'"
            ]
          },
          "metadata": {
            "tags": []
          },
          "execution_count": 151
        }
      ]
    },
    {
      "cell_type": "code",
      "metadata": {
        "id": "j70nA0Nz5LON",
        "colab_type": "code",
        "colab": {
          "base_uri": "https://localhost:8080/",
          "height": 306
        },
        "outputId": "a7d50b10-7b85-4e91-aa47-89e89e5ea3e1"
      },
      "source": [
        "classification_report(y_test, preds_normal, output_dict=True)\n",
        "#Note that in binary classification, recall of the positive class is also known as “sensitivity”; recall of the negative class is “specificity”."
      ],
      "execution_count": null,
      "outputs": [
        {
          "output_type": "execute_result",
          "data": {
            "text/plain": [
              "{'0.0': {'f1-score': 0.9997714526819148,\n",
              "  'precision': 0.9996132888029531,\n",
              "  'recall': 0.9999296666197778,\n",
              "  'support': 56872},\n",
              " '1.0': {'f1-score': 0.8395061728395062,\n",
              "  'precision': 0.9444444444444444,\n",
              "  'recall': 0.7555555555555555,\n",
              "  'support': 90},\n",
              " 'accuracy': 0.9995435553526912,\n",
              " 'macro avg': {'f1-score': 0.9196388127607105,\n",
              "  'precision': 0.9720288666236987,\n",
              "  'recall': 0.8777426110876667,\n",
              "  'support': 56962},\n",
              " 'weighted avg': {'f1-score': 0.9995182334272218,\n",
              "  'precision': 0.9995261219901258,\n",
              "  'recall': 0.9995435553526912,\n",
              "  'support': 56962}}"
            ]
          },
          "metadata": {
            "tags": []
          },
          "execution_count": 152
        }
      ]
    },
    {
      "cell_type": "code",
      "metadata": {
        "id": "ZLJJdl3h7wGa",
        "colab_type": "code",
        "colab": {}
      },
      "source": [
        "import matplotlib.pyplot as plt"
      ],
      "execution_count": null,
      "outputs": []
    },
    {
      "cell_type": "code",
      "metadata": {
        "id": "VTrEbqACAD5H",
        "colab_type": "code",
        "colab": {
          "base_uri": "https://localhost:8080/",
          "height": 560
        },
        "outputId": "e61382d5-ee8e-4dbc-a584-628f9ea78fd9"
      },
      "source": [
        "#ROC Curve\n",
        "import sklearn.metrics as metrics\n",
        "plt.figure(figsize=(16,8))\n",
        "plt.title('ROC Curve \\n Random Forest on normal train', fontsize=18)\n",
        "plt.plot([0, 1], [0, 1], 'k--')\n",
        "plt.axis([-0.01, 1, 0, 1])\n",
        "plt.xlabel('False Positive Rate', fontsize=16)\n",
        "plt.ylabel('True Positive Rate', fontsize=16)\n",
        "fpr, tpr, threshold = metrics.roc_curve(y_test, preds_normal)\n",
        "plt.plot(fpr, tpr, label='Random Forest Classifier Score: {:.4f}'.format(roc_auc_score(y_test, preds_normal)))"
      ],
      "execution_count": null,
      "outputs": [
        {
          "output_type": "execute_result",
          "data": {
            "text/plain": [
              "[<matplotlib.lines.Line2D at 0x7f0f728a6198>]"
            ]
          },
          "metadata": {
            "tags": []
          },
          "execution_count": 154
        },
        {
          "output_type": "display_data",
          "data": {
            "image/png": "[encoded data removed]",
            "text/plain": [
              "<Figure size 1152x576 with 1 Axes>"
            ]
          },
          "metadata": {
            "tags": [],
            "needs_background": "light"
          }
        }
      ]
    },
    {
      "cell_type": "code",
      "metadata": {
        "id": "P08Qcgb5AuiY",
        "colab_type": "code",
        "colab": {
          "base_uri": "https://localhost:8080/",
          "height": 34
        },
        "outputId": "95be1bda-b2bb-4740-b882-ea83cfcc0d20"
      },
      "source": [
        "#Random Forest on under sampled train\n",
        "#%%time\n",
        "import time\n",
        "from sklearn.ensemble import RandomForestClassifier\n",
        "t0 = time.time()\n",
        "model_under = RandomForestClassifier(random_state=0).fit(X_train_under, y_train_under)\n",
        "t1 = time.time()\n",
        "time_under = t1-t0\n",
        "print(time_under)"
      ],
      "execution_count": null,
      "outputs": [
        {
          "output_type": "stream",
          "text": [
            "0.3390653133392334\n"
          ],
          "name": "stdout"
        }
      ]
    },
    {
      "cell_type": "code",
      "metadata": {
        "id": "DxAxP0VQFWPW",
        "colab_type": "code",
        "colab": {
          "base_uri": "https://localhost:8080/",
          "height": 68
        },
        "outputId": "446d4195-adb5-465a-b7ad-adc88b81fd23"
      },
      "source": [
        "#Random Forest on under sampled train - accuracy\n",
        "#Use the Random Forest.score method to measure the model's classification \n",
        "#accuracy on test sample.\n",
        "%%time\n",
        "# Score the model!\n",
        "model_under.score(X_test, y_test)"
      ],
      "execution_count": null,
      "outputs": [
        {
          "output_type": "stream",
          "text": [
            "CPU times: user 432 ms, sys: 4 ms, total: 436 ms\n",
            "Wall time: 438 ms\n"
          ],
          "name": "stdout"
        },
        {
          "output_type": "execute_result",
          "data": {
            "text/plain": [
              "0.4709455426424634"
            ]
          },
          "metadata": {
            "tags": []
          },
          "execution_count": 156
        }
      ]
    },
    {
      "cell_type": "code",
      "metadata": {
        "id": "diBsK8_uFfCv",
        "colab_type": "code",
        "colab": {
          "base_uri": "https://localhost:8080/",
          "height": 51
        },
        "outputId": "65b4c29a-e3a4-465d-f9e5-b8886f6e0175"
      },
      "source": [
        "#Random Forest on under sampled train - confusion matrix\n",
        "preds_under = model_under.predict(X_test)\n",
        "from sklearn.metrics import confusion_matrix\n",
        "confusion_matrix(y_test, preds_under)"
      ],
      "execution_count": null,
      "outputs": [
        {
          "output_type": "execute_result",
          "data": {
            "text/plain": [
              "array([[26737, 30135],\n",
              "       [    1,    89]])"
            ]
          },
          "metadata": {
            "tags": []
          },
          "execution_count": 157
        }
      ]
    },
    {
      "cell_type": "code",
      "metadata": {
        "id": "qXAxwH6HFm14",
        "colab_type": "code",
        "colab": {
          "base_uri": "https://localhost:8080/",
          "height": 34
        },
        "outputId": "3ff8e569-3e79-4841-d158-657721c922d4"
      },
      "source": [
        "from sklearn.metrics import precision_score, recall_score, f1_score, roc_auc_score, accuracy_score, classification_report\n",
        "precision_score(y_test, preds_under)"
      ],
      "execution_count": null,
      "outputs": [
        {
          "output_type": "execute_result",
          "data": {
            "text/plain": [
              "0.0029446797247220753"
            ]
          },
          "metadata": {
            "tags": []
          },
          "execution_count": 158
        }
      ]
    },
    {
      "cell_type": "code",
      "metadata": {
        "id": "Cp229uj4Fuk2",
        "colab_type": "code",
        "colab": {
          "base_uri": "https://localhost:8080/",
          "height": 34
        },
        "outputId": "ecbc2618-6d60-4ea6-d658-cf4b052afcfa"
      },
      "source": [
        "recall_score(y_test, preds_under)"
      ],
      "execution_count": null,
      "outputs": [
        {
          "output_type": "execute_result",
          "data": {
            "text/plain": [
              "0.9888888888888889"
            ]
          },
          "metadata": {
            "tags": []
          },
          "execution_count": 159
        }
      ]
    },
    {
      "cell_type": "code",
      "metadata": {
        "id": "BkVvfXYTFxVl",
        "colab_type": "code",
        "colab": {
          "base_uri": "https://localhost:8080/",
          "height": 34
        },
        "outputId": "c5b5cf0e-1f1b-4604-f05f-83846ca11571"
      },
      "source": [
        "f1_score(y_test, preds_under)"
      ],
      "execution_count": null,
      "outputs": [
        {
          "output_type": "execute_result",
          "data": {
            "text/plain": [
              "0.005871874381473906"
            ]
          },
          "metadata": {
            "tags": []
          },
          "execution_count": 160
        }
      ]
    },
    {
      "cell_type": "code",
      "metadata": {
        "id": "mprr4sWfF0MA",
        "colab_type": "code",
        "colab": {
          "base_uri": "https://localhost:8080/",
          "height": 34
        },
        "outputId": "caa82fee-6a63-4d7e-a542-f5cf2e5d1905"
      },
      "source": [
        "roc_auc_score(y_test, preds_under)"
      ],
      "execution_count": null,
      "outputs": [
        {
          "output_type": "execute_result",
          "data": {
            "text/plain": [
              "0.7295073928197433"
            ]
          },
          "metadata": {
            "tags": []
          },
          "execution_count": 161
        }
      ]
    },
    {
      "cell_type": "code",
      "metadata": {
        "id": "PbUFOyR9F2lu",
        "colab_type": "code",
        "colab": {
          "base_uri": "https://localhost:8080/",
          "height": 34
        },
        "outputId": "cd08e25e-6934-45fd-957e-43546d80a123"
      },
      "source": [
        "accuracy_score(y_test, preds_under)"
      ],
      "execution_count": null,
      "outputs": [
        {
          "output_type": "execute_result",
          "data": {
            "text/plain": [
              "0.4709455426424634"
            ]
          },
          "metadata": {
            "tags": []
          },
          "execution_count": 162
        }
      ]
    },
    {
      "cell_type": "code",
      "metadata": {
        "id": "81IzK9HOF4YC",
        "colab_type": "code",
        "colab": {
          "base_uri": "https://localhost:8080/",
          "height": 52
        },
        "outputId": "3b4a7980-0d83-4544-bc1d-0b36437f7c4c"
      },
      "source": [
        "classification_report(y_test, preds_under)"
      ],
      "execution_count": null,
      "outputs": [
        {
          "output_type": "execute_result",
          "data": {
            "application/vnd.google.colaboratory.intrinsic": {
              "type": "string"
            },
            "text/plain": [
              "'              precision    recall  f1-score   support\\n\\n         0.0       1.00      0.47      0.64     56872\\n         1.0       0.00      0.99      0.01        90\\n\\n    accuracy                           0.47     56962\\n   macro avg       0.50      0.73      0.32     56962\\nweighted avg       1.00      0.47      0.64     56962\\n'"
            ]
          },
          "metadata": {
            "tags": []
          },
          "execution_count": 163
        }
      ]
    },
    {
      "cell_type": "code",
      "metadata": {
        "id": "baGH6bW5F7Fh",
        "colab_type": "code",
        "colab": {
          "base_uri": "https://localhost:8080/",
          "height": 306
        },
        "outputId": "5a323af3-ec96-42bc-d5ef-ccc69374ef5a"
      },
      "source": [
        "classification_report(y_test, preds_under, output_dict=True)\n",
        "#Note that in binary classification, recall of the positive class is also known as “sensitivity”; recall of the negative class is “specificity”."
      ],
      "execution_count": null,
      "outputs": [
        {
          "output_type": "execute_result",
          "data": {
            "text/plain": [
              "{'0.0': {'f1-score': 0.6395646453773473,\n",
              "  'precision': 0.9999626000448799,\n",
              "  'recall': 0.47012589675059785,\n",
              "  'support': 56872},\n",
              " '1.0': {'f1-score': 0.005871874381473906,\n",
              "  'precision': 0.0029446797247220753,\n",
              "  'recall': 0.9888888888888889,\n",
              "  'support': 90},\n",
              " 'accuracy': 0.4709455426424634,\n",
              " 'macro avg': {'f1-score': 0.32271825987941055,\n",
              "  'precision': 0.501453639884801,\n",
              "  'recall': 0.7295073928197434,\n",
              "  'support': 56962},\n",
              " 'weighted avg': {'f1-score': 0.6385634103541804,\n",
              "  'precision': 0.9983873110306456,\n",
              "  'recall': 0.4709455426424634,\n",
              "  'support': 56962}}"
            ]
          },
          "metadata": {
            "tags": []
          },
          "execution_count": 164
        }
      ]
    },
    {
      "cell_type": "code",
      "metadata": {
        "id": "PlKyYjs3F95s",
        "colab_type": "code",
        "colab": {
          "base_uri": "https://localhost:8080/",
          "height": 560
        },
        "outputId": "a8fb6baa-60a7-44ab-f15f-11704c44d6c6"
      },
      "source": [
        "#ROC Curve\n",
        "import matplotlib.pyplot as plt\n",
        "import sklearn.metrics as metrics\n",
        "plt.figure(figsize=(16,8))\n",
        "plt.title('ROC Curve \\n Random Forest on under sampled train', fontsize=18)\n",
        "plt.plot([0, 1], [0, 1], 'k--')\n",
        "plt.axis([-0.01, 1, 0, 1])\n",
        "plt.xlabel('False Positive Rate', fontsize=16)\n",
        "plt.ylabel('True Positive Rate', fontsize=16)\n",
        "fpr, tpr, threshold = metrics.roc_curve(y_test, preds_under)\n",
        "plt.plot(fpr, tpr, label='Random Forest Classifier Score: {:.4f}'.format(roc_auc_score(y_test, preds_under)))"
      ],
      "execution_count": null,
      "outputs": [
        {
          "output_type": "execute_result",
          "data": {
            "text/plain": [
              "[<matplotlib.lines.Line2D at 0x7f0f729593c8>]"
            ]
          },
          "metadata": {
            "tags": []
          },
          "execution_count": 165
        },
        {
          "output_type": "display_data",
          "data": {
            "image/png": "[encoded data removed]",
            "text/plain": [
              "<Figure size 1152x576 with 1 Axes>"
            ]
          },
          "metadata": {
            "tags": [],
            "needs_background": "light"
          }
        }
      ]
    },
    {
      "cell_type": "code",
      "metadata": {
        "id": "hhpk_zTdGIfS",
        "colab_type": "code",
        "colab": {
          "base_uri": "https://localhost:8080/",
          "height": 34
        },
        "outputId": "fb6cbce7-01c0-4471-9d68-ab7d0684f83f"
      },
      "source": [
        "#Random Forest on oversampling train\n",
        "#%%time\n",
        "import time\n",
        "from sklearn.ensemble import RandomForestClassifier\n",
        "t0 = time.time()\n",
        "model_over = RandomForestClassifier(random_state=0).fit(X_train_over, y_train_over)\n",
        "t1 = time.time()\n",
        "time_over = t1-t0\n",
        "print(time_over)"
      ],
      "execution_count": null,
      "outputs": [
        {
          "output_type": "stream",
          "text": [
            "152.05731344223022\n"
          ],
          "name": "stdout"
        }
      ]
    },
    {
      "cell_type": "code",
      "metadata": {
        "id": "Us3OSfKYGxBu",
        "colab_type": "code",
        "colab": {
          "base_uri": "https://localhost:8080/",
          "height": 68
        },
        "outputId": "91d91951-199d-4a88-c7a8-c789154a2e18"
      },
      "source": [
        "#Random Forest on oversampling train - accuracy\n",
        "#Use the Random Forest.score method to measure the model's classification \n",
        "#accuracy on test sample.\n",
        "%%time\n",
        "# Score the model!\n",
        "model_over.score(X_test, y_test)"
      ],
      "execution_count": null,
      "outputs": [
        {
          "output_type": "stream",
          "text": [
            "CPU times: user 466 ms, sys: 1 ms, total: 467 ms\n",
            "Wall time: 468 ms\n"
          ],
          "name": "stdout"
        },
        {
          "output_type": "execute_result",
          "data": {
            "text/plain": [
              "0.9995962220427653"
            ]
          },
          "metadata": {
            "tags": []
          },
          "execution_count": 167
        }
      ]
    },
    {
      "cell_type": "code",
      "metadata": {
        "id": "Yd3WAcg7JGGP",
        "colab_type": "code",
        "colab": {
          "base_uri": "https://localhost:8080/",
          "height": 51
        },
        "outputId": "e0d5df49-ff40-4b93-82e6-c9ffc603fb73"
      },
      "source": [
        "#Random Forest on oversampling train - confusion matrix\n",
        "preds_over = model_over.predict(X_test)\n",
        "from sklearn.metrics import confusion_matrix\n",
        "confusion_matrix(y_test, preds_over)"
      ],
      "execution_count": null,
      "outputs": [
        {
          "output_type": "execute_result",
          "data": {
            "text/plain": [
              "array([[56867,     5],\n",
              "       [   18,    72]])"
            ]
          },
          "metadata": {
            "tags": []
          },
          "execution_count": 168
        }
      ]
    },
    {
      "cell_type": "code",
      "metadata": {
        "id": "lu_B3ZEpJREl",
        "colab_type": "code",
        "colab": {}
      },
      "source": [
        "from sklearn.metrics import precision_score, recall_score, f1_score, roc_auc_score, accuracy_score, classification_report"
      ],
      "execution_count": null,
      "outputs": []
    },
    {
      "cell_type": "code",
      "metadata": {
        "id": "6BZPfC8kJT3a",
        "colab_type": "code",
        "colab": {
          "base_uri": "https://localhost:8080/",
          "height": 34
        },
        "outputId": "abe9f2a0-fbc3-4856-cde8-2978bd4ce47f"
      },
      "source": [
        "precision_score(y_test, preds_over)"
      ],
      "execution_count": null,
      "outputs": [
        {
          "output_type": "execute_result",
          "data": {
            "text/plain": [
              "0.935064935064935"
            ]
          },
          "metadata": {
            "tags": []
          },
          "execution_count": 170
        }
      ]
    },
    {
      "cell_type": "code",
      "metadata": {
        "id": "ZVusDZqXJWl6",
        "colab_type": "code",
        "colab": {
          "base_uri": "https://localhost:8080/",
          "height": 34
        },
        "outputId": "3d0b64d3-349f-404d-f762-e2fcfc0e502f"
      },
      "source": [
        "recall_score(y_test, preds_over)"
      ],
      "execution_count": null,
      "outputs": [
        {
          "output_type": "execute_result",
          "data": {
            "text/plain": [
              "0.8"
            ]
          },
          "metadata": {
            "tags": []
          },
          "execution_count": 171
        }
      ]
    },
    {
      "cell_type": "code",
      "metadata": {
        "id": "b4rwQE79JZq4",
        "colab_type": "code",
        "colab": {
          "base_uri": "https://localhost:8080/",
          "height": 34
        },
        "outputId": "5b4817d4-a6eb-45e9-fc9e-5c4e17f6e679"
      },
      "source": [
        "f1_score(y_test, preds_over)"
      ],
      "execution_count": null,
      "outputs": [
        {
          "output_type": "execute_result",
          "data": {
            "text/plain": [
              "0.8622754491017963"
            ]
          },
          "metadata": {
            "tags": []
          },
          "execution_count": 172
        }
      ]
    },
    {
      "cell_type": "code",
      "metadata": {
        "id": "Drt56VeZJdLb",
        "colab_type": "code",
        "colab": {
          "base_uri": "https://localhost:8080/",
          "height": 34
        },
        "outputId": "7c6c9710-3e67-4006-d9f9-a5c0274e4d26"
      },
      "source": [
        "roc_auc_score(y_test, preds_over)"
      ],
      "execution_count": null,
      "outputs": [
        {
          "output_type": "execute_result",
          "data": {
            "text/plain": [
              "0.8999560416373611"
            ]
          },
          "metadata": {
            "tags": []
          },
          "execution_count": 173
        }
      ]
    },
    {
      "cell_type": "code",
      "metadata": {
        "id": "olOZ5GxjJfw_",
        "colab_type": "code",
        "colab": {
          "base_uri": "https://localhost:8080/",
          "height": 34
        },
        "outputId": "718e9a6e-a502-416e-9edd-84afee6d433d"
      },
      "source": [
        "accuracy_score(y_test, preds_over)"
      ],
      "execution_count": null,
      "outputs": [
        {
          "output_type": "execute_result",
          "data": {
            "text/plain": [
              "0.9995962220427653"
            ]
          },
          "metadata": {
            "tags": []
          },
          "execution_count": 174
        }
      ]
    },
    {
      "cell_type": "code",
      "metadata": {
        "id": "zAolxfOeJiV9",
        "colab_type": "code",
        "colab": {
          "base_uri": "https://localhost:8080/",
          "height": 52
        },
        "outputId": "184a5a3d-134a-4508-c7fe-00c1b19f46e4"
      },
      "source": [
        "classification_report(y_test, preds_over)"
      ],
      "execution_count": null,
      "outputs": [
        {
          "output_type": "execute_result",
          "data": {
            "application/vnd.google.colaboratory.intrinsic": {
              "type": "string"
            },
            "text/plain": [
              "'              precision    recall  f1-score   support\\n\\n         0.0       1.00      1.00      1.00     56872\\n         1.0       0.94      0.80      0.86        90\\n\\n    accuracy                           1.00     56962\\n   macro avg       0.97      0.90      0.93     56962\\nweighted avg       1.00      1.00      1.00     56962\\n'"
            ]
          },
          "metadata": {
            "tags": []
          },
          "execution_count": 175
        }
      ]
    },
    {
      "cell_type": "code",
      "metadata": {
        "id": "Vr_UcAiHJllL",
        "colab_type": "code",
        "colab": {
          "base_uri": "https://localhost:8080/",
          "height": 306
        },
        "outputId": "41208e5d-5d7c-47e7-8598-8257cc1db080"
      },
      "source": [
        "classification_report(y_test, preds_over, output_dict=True)\n",
        "#Note that in binary classification, recall of the positive class is also known as “sensitivity”; recall of the negative class is “specificity”."
      ],
      "execution_count": null,
      "outputs": [
        {
          "output_type": "execute_result",
          "data": {
            "text/plain": [
              "{'0.0': {'f1-score': 0.9997978146399781,\n",
              "  'precision': 0.9996835721191878,\n",
              "  'recall': 0.9999120832747221,\n",
              "  'support': 56872},\n",
              " '1.0': {'f1-score': 0.8622754491017963,\n",
              "  'precision': 0.935064935064935,\n",
              "  'recall': 0.8,\n",
              "  'support': 90},\n",
              " 'accuracy': 0.9995962220427653,\n",
              " 'macro avg': {'f1-score': 0.9310366318708871,\n",
              "  'precision': 0.9673742535920614,\n",
              "  'recall': 0.8999560416373611,\n",
              "  'support': 56962},\n",
              " 'weighted avg': {'f1-score': 0.9995805292058564,\n",
              "  'precision': 0.9995814746272654,\n",
              "  'recall': 0.9995962220427653,\n",
              "  'support': 56962}}"
            ]
          },
          "metadata": {
            "tags": []
          },
          "execution_count": 176
        }
      ]
    },
    {
      "cell_type": "code",
      "metadata": {
        "id": "jVWftK4eJoZm",
        "colab_type": "code",
        "colab": {
          "base_uri": "https://localhost:8080/",
          "height": 560
        },
        "outputId": "0b8ad59b-681f-49d0-96fe-dbe39ea85c1c"
      },
      "source": [
        "#ROC Curve\n",
        "import matplotlib.pyplot as plt\n",
        "import sklearn.metrics as metrics\n",
        "plt.figure(figsize=(16,8))\n",
        "plt.title('ROC Curve \\n Random Forest on over sampled train', fontsize=18)\n",
        "plt.plot([0, 1], [0, 1], 'k--')\n",
        "plt.axis([-0.01, 1, 0, 1])\n",
        "plt.xlabel('False Positive Rate', fontsize=16)\n",
        "plt.ylabel('True Positive Rate', fontsize=16)\n",
        "fpr, tpr, threshold = metrics.roc_curve(y_test, preds_over)\n",
        "plt.plot(fpr, tpr, label='Random Forest Classifier Score: {:.4f}'.format(roc_auc_score(y_test, preds_over)))"
      ],
      "execution_count": null,
      "outputs": [
        {
          "output_type": "execute_result",
          "data": {
            "text/plain": [
              "[<matplotlib.lines.Line2D at 0x7f0f72ab3c18>]"
            ]
          },
          "metadata": {
            "tags": []
          },
          "execution_count": 177
        },
        {
          "output_type": "display_data",
          "data": {
            "image/png": "[encoded data removed]",
            "text/plain": [
              "<Figure size 1152x576 with 1 Axes>"
            ]
          },
          "metadata": {
            "tags": [],
            "needs_background": "light"
          }
        }
      ]
    },
    {
      "cell_type": "code",
      "metadata": {
        "id": "RaRMFuZUJwV6",
        "colab_type": "code",
        "colab": {}
      },
      "source": [
        "results_normal = classification_report(y_test, preds_normal, output_dict=True)\n",
        "results_over = classification_report(y_test, preds_over, output_dict=True)\n",
        "results_under = classification_report(y_test, preds_under, output_dict=True)"
      ],
      "execution_count": null,
      "outputs": []
    },
    {
      "cell_type": "code",
      "metadata": {
        "id": "eh-tWP_PXLlm",
        "colab_type": "code",
        "colab": {}
      },
      "source": [
        "results = {\n",
        "    'labels':['normal','oversampling','undersampling'],\n",
        "    'accuracy': [results_normal['accuracy'], results_over['accuracy'], results_under['accuracy']],\n",
        "    'sensitivity':[results_normal['1.0']['recall'], results_over['1.0']['recall'], results_under['1.0']['recall']],\n",
        "    'specificity':[results_normal['0.0']['recall'], results_over['0.0']['recall'], results_under['0.0']['recall']],\n",
        "    'f_score':[results_normal['1.0']['f1-score'], results_over['1.0']['f1-score'], results_under['1.0']['f1-score']],\n",
        "    'roc_auc':[roc_auc_score(y_test, preds_normal),roc_auc_score(y_test, preds_over),roc_auc_score(y_test, preds_under)],\n",
        "    'time':[time_normal, time_over, time_under]}"
      ],
      "execution_count": null,
      "outputs": []
    },
    {
      "cell_type": "code",
      "metadata": {
        "id": "d4GhqyDdXOJN",
        "colab_type": "code",
        "colab": {
          "base_uri": "https://localhost:8080/",
          "height": 438
        },
        "outputId": "dfba02d2-0c85-4e9c-d82b-494a3f537d96"
      },
      "source": [
        "test = 'f_score'\n",
        "plt.figure(figsize=(6,6))\n",
        "title = 'F-Score Comparison \\n By Random Forest Sampling Method'\n",
        "plt.title(title, fontsize=18)\n",
        "plt.axis(ymin=0, ymax=1)\n",
        "plt.yticks(fontsize=14)\n",
        "plt.xticks(fontsize=14)\n",
        "plt.xlabel('Sampling Method', fontsize=16)\n",
        "plt.ylabel(\"F-Score\", fontsize=16)\n",
        "plt.bar(results['labels'],results[test],0.6)\n",
        "bars = plt.bar(results['labels'],results[test],0.6)\n",
        "for bar in bars:\n",
        "    yval = bar.get_height()\n",
        "    yval_label = round(yval,4)\n",
        "    plt.text(bar.get_x()+0.18, yval + .03, yval_label)"
      ],
      "execution_count": null,
      "outputs": [
        {
          "output_type": "display_data",
          "data": {
            "image/png": "[encoded data removed]",
            "text/plain": [
              "<Figure size 432x432 with 1 Axes>"
            ]
          },
          "metadata": {
            "tags": [],
            "needs_background": "light"
          }
        }
      ]
    },
    {
      "cell_type": "code",
      "metadata": {
        "id": "LZwaAWYjefgG",
        "colab_type": "code",
        "colab": {
          "base_uri": "https://localhost:8080/",
          "height": 560
        },
        "outputId": "7166e966-492f-4718-c962-1f9ca52e08d5"
      },
      "source": [
        "# Generate ROC Curve for model with undersampling\n",
        "import sklearn.metrics as metrics\n",
        "plt.figure(figsize=(16,8))\n",
        "plt.title('ROC Curve \\n Random Forest Sample Comparison', fontsize=18)\n",
        "plt.plot([0, 1], [0, 1], 'k--')\n",
        "plt.axis([-0.01, 1, 0, 1])\n",
        "plt.xlabel('False Positive Rate', fontsize=16)\n",
        "plt.ylabel('True Positive Rate', fontsize=16)\n",
        "fpr_normal, tpr_normal, threshold_normal = metrics.roc_curve(y_test, preds_normal)\n",
        "fpr_over, tpr_over, threshold_over = metrics.roc_curve(y_test, preds_over)\n",
        "fpr_under, tpr_under, threshold_under = metrics.roc_curve(y_test, preds_under)\n",
        "plt.plot(fpr_normal, tpr_normal, label='Normal Dataset Classifier Score: {:.4f}'.format(roc_auc_score(y_test, preds_normal)))\n",
        "plt.plot(fpr_over, tpr_over, label='Oversampling Classifier Score: {:.4f}'.format(roc_auc_score(y_test, preds_over)))\n",
        "plt.plot(fpr_under, tpr_under, label='Undersampling Classifier Score: {:.4f}'.format(roc_auc_score(y_test, preds_under)))\n",
        "plt.legend(loc=\"lower right\")"
      ],
      "execution_count": null,
      "outputs": [
        {
          "output_type": "execute_result",
          "data": {
            "text/plain": [
              "<matplotlib.legend.Legend at 0x7f0f72aadb00>"
            ]
          },
          "metadata": {
            "tags": []
          },
          "execution_count": 184
        },
        {
          "output_type": "display_data",
          "data": {
            "image/png": "[encoded data removed]",
            "text/plain": [
              "<Figure size 1152x576 with 1 Axes>"
            ]
          },
          "metadata": {
            "tags": [],
            "needs_background": "light"
          }
        }
      ]
    },
    {
      "cell_type": "code",
      "metadata": {
        "id": "qQDHugHjr2p3",
        "colab_type": "code",
        "colab": {
          "base_uri": "https://localhost:8080/",
          "height": 438
        },
        "outputId": "58625d94-d5e5-495b-9fcd-71fdf85b028d"
      },
      "source": [
        "test = 'time'\n",
        "plt.figure(figsize=(6,6))\n",
        "title = 'Time Comparison \\n By Random Forest Sampling Method'\n",
        "plt.title(title, fontsize=18)\n",
        "plt.axis(ymin=0, ymax=210)\n",
        "plt.yticks(fontsize=14)\n",
        "plt.xticks(fontsize=14)\n",
        "plt.xlabel('Sampling Method', fontsize=16)\n",
        "plt.ylabel('Time (s)', fontsize=16)\n",
        "plt.bar(results['labels'],results[test],0.6)\n",
        "bars = plt.bar(results['labels'],results[test],0.6)\n",
        "for bar in bars:\n",
        "    yval = bar.get_height()\n",
        "    yval_label = round(yval,4)\n",
        "    plt.text(bar.get_x()+0.15, yval + .2, yval_label)"
      ],
      "execution_count": null,
      "outputs": [
        {
          "output_type": "display_data",
          "data": {
            "image/png": "[encoded data removed]",
            "text/plain": [
              "<Figure size 432x432 with 1 Axes>"
            ]
          },
          "metadata": {
            "tags": [],
            "needs_background": "light"
          }
        }
      ]
    }
  ]
}